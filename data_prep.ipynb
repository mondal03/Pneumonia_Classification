{
 "cells": [
  {
   "cell_type": "code",
   "execution_count": 1,
   "metadata": {},
   "outputs": [
    {
     "name": "stdout",
     "output_type": "stream",
     "text": [
      "/Users/amitayas/Code/pytorch_playground/pneumonia/env/bin/python3.12\n"
     ]
    }
   ],
   "source": [
    "import sys\n",
    "print(sys.executable)"
   ]
  },
  {
   "cell_type": "code",
   "execution_count": 3,
   "metadata": {},
   "outputs": [],
   "source": [
    "import os\n",
    "import shutil\n",
    "\n",
    "chest_xray_dir = \"chest_xray\"\n",
    "\n",
    "dirs_to_delete = [d for d in os.listdir(chest_xray_dir) if d not in [\"train\", \"test\", \"val\"] and d != \".DS_Store\"]\n",
    "\n",
    "for dir_to_delete in dirs_to_delete:\n",
    "    shutil.rmtree(os.path.join(chest_xray_dir, dir_to_delete))"
   ]
  },
  {
   "cell_type": "code",
   "execution_count": 5,
   "metadata": {},
   "outputs": [],
   "source": [
    "chest_xray_dir = \"chest_xray\"\n",
    "\n",
    "train_dir = os.path.join(chest_xray_dir, \"train\")\n",
    "\n",
    "for class_dir in [\"NORMAL\", \"PNEUMONIA\"]:\n",
    "    val_class_dir = os.path.join(chest_xray_dir, \"val\", class_dir)\n",
    "    train_class_dir = os.path.join(train_dir, class_dir)\n",
    "\n",
    "    os.makedirs(train_class_dir, exist_ok=True)\n",
    "\n",
    "    for file in os.listdir(val_class_dir):\n",
    "        shutil.copy(os.path.join(val_class_dir, file), train_class_dir)\n",
    "\n",
    "shutil.rmtree(os.path.join(chest_xray_dir, \"val\"))"
   ]
  },
  {
   "cell_type": "code",
   "execution_count": 6,
   "metadata": {},
   "outputs": [],
   "source": [
    "\n",
    "chest_xray_dir = \"chest_xray\"\n",
    "\n",
    "for dir_name in [\"train\", \"test\"]:\n",
    "    pneumonia_dir = os.path.join(chest_xray_dir, dir_name, \"PNEUMONIA\")\n",
    "    virus_dir = os.path.join(chest_xray_dir, dir_name, \"VIRUS\")\n",
    "    bacteria_dir = os.path.join(chest_xray_dir, dir_name, \"BACTERIA\")\n",
    "\n",
    "    os.makedirs(virus_dir, exist_ok=True)\n",
    "    os.makedirs(bacteria_dir, exist_ok=True)\n",
    "\n",
    "    for file_name in os.listdir(pneumonia_dir):\n",
    "        if \"virus\" in file_name.lower():\n",
    "            shutil.move(os.path.join(pneumonia_dir, file_name), virus_dir)\n",
    "        elif \"bacteria\" in file_name.lower():\n",
    "            shutil.move(os.path.join(pneumonia_dir, file_name), bacteria_dir)\n",
    "\n",
    "shutil.rmtree(os.path.join(chest_xray_dir, \"train\", \"PNEUMONIA\"))\n",
    "shutil.rmtree(os.path.join(chest_xray_dir, \"test\", \"PNEUMONIA\"))"
   ]
  },
  {
   "cell_type": "code",
   "execution_count": null,
   "metadata": {},
   "outputs": [],
   "source": []
  }
 ],
 "metadata": {
  "kernelspec": {
   "display_name": "Python 3 (ipykernel)",
   "language": "python",
   "name": "python3"
  },
  "language_info": {
   "codemirror_mode": {
    "name": "ipython",
    "version": 3
   },
   "file_extension": ".py",
   "mimetype": "text/x-python",
   "name": "python",
   "nbconvert_exporter": "python",
   "pygments_lexer": "ipython3",
   "version": "3.12.7"
  }
 },
 "nbformat": 4,
 "nbformat_minor": 4
}
